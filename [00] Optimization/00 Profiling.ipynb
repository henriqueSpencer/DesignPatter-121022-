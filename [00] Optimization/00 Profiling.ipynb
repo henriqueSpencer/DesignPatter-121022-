{
 "cells": [
  {
   "cell_type": "markdown",
   "source": [
    "# Profilling\n",
    "- Tempo de Execução"
   ],
   "metadata": {
    "collapsed": false
   }
  },
  {
   "cell_type": "code",
   "execution_count": 1,
   "outputs": [
    {
     "name": "stdout",
     "output_type": "stream",
     "text": [
      "1.1920928955078125e-06\n",
      "9.5367431640625e-07\n"
     ]
    }
   ],
   "source": [
    "import time\n",
    "\n",
    "def my_function():\n",
    "    a= 5+2\n",
    "    b= 5+3\n",
    "    c = a+b\n",
    "    d = c/b\n",
    "    return d\n",
    "\n",
    "def my_function2():\n",
    "    a= 5+2\n",
    "    b= 5+3\n",
    "    c = a+b\n",
    "    return c/b\n",
    "\n",
    "\n",
    "if __name__ == '__main__':\n",
    "\n",
    "    start = time.time()\n",
    "    my_function()\n",
    "    finish = time.time()\n",
    "    print(finish - start)\n",
    "\n",
    "    start = time.time()\n",
    "    my_function2()\n",
    "    finish = time.time()\n",
    "    print(finish - start)"
   ],
   "metadata": {
    "collapsed": false
   }
  },
  {
   "cell_type": "markdown",
   "source": [
    "# Profilling"
   ],
   "metadata": {
    "collapsed": false
   }
  },
  {
   "cell_type": "code",
   "execution_count": 2,
   "outputs": [
    {
     "name": "stdout",
     "output_type": "stream",
     "text": [
      "\n",
      "         21 function calls in 0.000 seconds\n",
      "\n",
      "   Ordered by: standard name\n",
      "\n",
      "   ncalls  tottime  percall  cumtime  percall filename:lineno(function)\n",
      "        1    0.000    0.000    0.000    0.000 2400366742.py:2(f)\n",
      "        1    0.000    0.000    0.000    0.000 <string>:1(<module>)\n",
      "        1    0.000    0.000    0.000    0.000 iostream.py:137(_event_pipe)\n",
      "        1    0.000    0.000    0.000    0.000 iostream.py:259(schedule)\n",
      "        1    0.000    0.000    0.000    0.000 iostream.py:521(_is_master_process)\n",
      "        1    0.000    0.000    0.000    0.000 iostream.py:548(_schedule_flush)\n",
      "        1    0.000    0.000    0.000    0.000 iostream.py:626(write)\n",
      "        1    0.000    0.000    0.000    0.000 socket.py:621(send)\n",
      "        1    0.000    0.000    0.000    0.000 threading.py:1059(_wait_for_tstate_lock)\n",
      "        1    0.000    0.000    0.000    0.000 threading.py:1113(is_alive)\n",
      "        1    0.000    0.000    0.000    0.000 threading.py:529(is_set)\n",
      "        1    0.000    0.000    0.000    0.000 {built-in method builtins.exec}\n",
      "        1    0.000    0.000    0.000    0.000 {built-in method builtins.isinstance}\n",
      "        1    0.000    0.000    0.000    0.000 {built-in method builtins.len}\n",
      "        1    0.000    0.000    0.000    0.000 {built-in method builtins.print}\n",
      "        1    0.000    0.000    0.000    0.000 {built-in method posix.getpid}\n",
      "        1    0.000    0.000    0.000    0.000 {method '__exit__' of '_thread.RLock' objects}\n",
      "        1    0.000    0.000    0.000    0.000 {method 'acquire' of '_thread.lock' objects}\n",
      "        1    0.000    0.000    0.000    0.000 {method 'append' of 'collections.deque' objects}\n",
      "        1    0.000    0.000    0.000    0.000 {method 'disable' of '_lsprof.Profiler' objects}\n",
      "        1    0.000    0.000    0.000    0.000 {method 'write' of '_io.StringIO' objects}\n",
      "\n",
      "\n"
     ]
    }
   ],
   "source": [
    "import cProfile\n",
    "def f():\n",
    "    print()\n",
    "\n",
    "if __name__ == '__main__':\n",
    "    cProfile.run('f()')"
   ],
   "metadata": {
    "collapsed": false
   }
  },
  {
   "cell_type": "markdown",
   "source": [
    "# Line Profiling\n",
    "é bom para ver cpu"
   ],
   "metadata": {
    "collapsed": false
   }
  },
  {
   "cell_type": "code",
   "execution_count": 4,
   "outputs": [
    {
     "name": "stdout",
     "output_type": "stream",
     "text": [
      "Hello World\n",
      "Timer unit: 1e-09 s\n",
      "\n",
      "None\n"
     ]
    },
    {
     "name": "stderr",
     "output_type": "stream",
     "text": [
      "/var/folders/s9/8r15s30n0bx0kd0_2j7pt0240000gn/T/ipykernel_12051/1181330661.py:7: UserWarning: Could not extract a code object for the object None\n",
      "  profile = LineProfiler(rock(rk))\n"
     ]
    }
   ],
   "source": [
    "from line_profiler import LineProfiler\n",
    "\n",
    "def rock(rk:str):\n",
    "    print(rk)\n",
    "\n",
    "rk = \"Hello World\"\n",
    "profile = LineProfiler(rock(rk))\n",
    "print(profile.print_stats())"
   ],
   "metadata": {
    "collapsed": false
   }
  },
  {
   "cell_type": "code",
   "execution_count": null,
   "outputs": [],
   "source": [],
   "metadata": {
    "collapsed": false
   }
  }
 ],
 "metadata": {
  "kernelspec": {
   "display_name": "Python 3",
   "language": "python",
   "name": "python3"
  },
  "language_info": {
   "codemirror_mode": {
    "name": "ipython",
    "version": 2
   },
   "file_extension": ".py",
   "mimetype": "text/x-python",
   "name": "python",
   "nbconvert_exporter": "python",
   "pygments_lexer": "ipython2",
   "version": "2.7.6"
  }
 },
 "nbformat": 4,
 "nbformat_minor": 0
}
