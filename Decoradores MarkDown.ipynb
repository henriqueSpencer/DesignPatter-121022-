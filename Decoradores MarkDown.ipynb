{
 "cells": [
  {
   "cell_type": "markdown",
   "source": [
    "# Título 1\n",
    "## Título 2\n",
    "### Título 3\n",
    "#### Título 4\n",
    "##### Título 5\n",
    "###### Título 6\n",
    "\n",
    "**Negrito**\n",
    "__Negrito__\n",
    "\n",
    "*Itálico*\n",
    "_Itálico_\n",
    "\n",
    "***Negrito e Itálico***\n",
    "___Negrito e Itálico___\n",
    "\n",
    "- Item 1\n",
    "- Item 2\n",
    "  - Subitem 2.1\n",
    "  - Subitem 2.2\n",
    "\n",
    "1. Item 1\n",
    "2. Item 2\n",
    "3. Item 3\n",
    "\n",
    "> Este é um bloco de citação.\n",
    "\n",
    "[Texto do Link](URL)\n",
    "\n",
    "![Texto Alternativo](URL da Imagem)\n",
    "\n",
    "`Código Inline`\n",
    "\n",
    "\\```\n",
    "Código de Bloco\n",
    "\\```\n",
    "\n",
    "Linhas Horizontal\n",
    "---\n",
    "\n",
    "Utilize a barra invertida \\ antes do caractere especial para escapá-lo.\n"
   ],
   "metadata": {
    "collapsed": false
   }
  },
  {
   "cell_type": "code",
   "execution_count": null,
   "outputs": [],
   "source": [],
   "metadata": {
    "collapsed": false
   }
  }
 ],
 "metadata": {
  "kernelspec": {
   "display_name": "Python 3",
   "language": "python",
   "name": "python3"
  },
  "language_info": {
   "codemirror_mode": {
    "name": "ipython",
    "version": 2
   },
   "file_extension": ".py",
   "mimetype": "text/x-python",
   "name": "python",
   "nbconvert_exporter": "python",
   "pygments_lexer": "ipython2",
   "version": "2.7.6"
  }
 },
 "nbformat": 4,
 "nbformat_minor": 0
}
