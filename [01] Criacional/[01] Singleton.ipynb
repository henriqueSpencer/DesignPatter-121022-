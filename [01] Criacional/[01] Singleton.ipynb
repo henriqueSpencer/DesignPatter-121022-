{
 "cells": [
  {
   "cell_type": "markdown",
   "source": [
    "`Creational design patterns provide various object creation mechanisms, which increase flexibility and reuse of existing code.`\n",
    "\n",
    "# Singleton\n",
    "- A ideia é garantir que a classe tenha apenas uma instancia e que seja acessivel globalmente\n",
    "- Ele ja é aplicado caso voce use o \\_\\_init.py\\_\\_ para importar a classe"
   ],
   "metadata": {
    "collapsed": false
   }
  },
  {
   "cell_type": "markdown",
   "source": [
    "## 01 - Implementação Thread Safe"
   ],
   "metadata": {
    "collapsed": false
   }
  },
  {
   "cell_type": "code",
   "execution_count": 6,
   "outputs": [
    {
     "name": "stdout",
     "output_type": "stream",
     "text": [
      "Se você ver o mesmo valor, então o singleton foi reutilizado (yay!)\n",
      "Se você ver valores diferentes, então 2 singletons foram criados (booo!!)\n",
      "\n",
      "RESULTADO:\n",
      "\n",
      "FOO\n",
      "FOO\n",
      "FOO\n"
     ]
    }
   ],
   "source": [
    "from threading import Lock, Thread\n",
    "\n",
    "class SingletonMeta(type):\n",
    "    \"\"\"\n",
    "    Implementação thread-safe do padrão Singleton.\n",
    "    \"\"\"\n",
    "\n",
    "    _instancias = {}\n",
    "\n",
    "    _bloqueio: Lock = Lock()\n",
    "    \"\"\"\n",
    "    Agora temos um objeto de bloqueio que será usado para sincronizar as threads\n",
    "    durante o primeiro acesso ao Singleton.\n",
    "    \"\"\"\n",
    "    # __call__ permite que você faça um objeto Python se comportar como uma função.\n",
    "    def __call__(cls, *args, **kwargs):\n",
    "        \"\"\"\n",
    "        Mudanças possíveis no valor do argumento `__init__` não afetam a\n",
    "        instância retornada.\n",
    "        \"\"\"\n",
    "        # Agora, imagine que o programa acabou de ser iniciado. Como não há\n",
    "        # instância de Singleton ainda, várias threads podem passar\n",
    "        # simultaneamente pela condicional anterior e chegar a este ponto\n",
    "        # quase ao mesmo tempo. A primeira delas adquirirá o bloqueio e\n",
    "        # prosseguirá, enquanto o resto esperará aqui.\n",
    "        with cls._bloqueio:\n",
    "            # A primeira thread a adquirir o bloqueio atinge esta condicional,\n",
    "            # entra e cria a instância Singleton. Depois de sair do bloco de\n",
    "            # bloqueio, uma thread que poderia estar esperando a liberação do\n",
    "            # bloqueio pode então entrar nesta seção. Mas como o campo Singleton\n",
    "            # já está inicializado, a thread não criará um novo objeto.\n",
    "            if cls not in cls._instancias:\n",
    "                instancia = super().__call__(*args, **kwargs)\n",
    "                cls._instancias[cls] = instancia\n",
    "        return cls._instancias[cls]\n",
    "\n",
    "class Singleton(metaclass=SingletonMeta):\n",
    "    valor: str = None\n",
    "    \"\"\"\n",
    "    Usaremos esta propriedade para provar que nosso Singleton realmente\n",
    "    funciona.\n",
    "    \"\"\"\n",
    "\n",
    "    def __init__(self, valor: str) -> None:\n",
    "        self.valor = valor\n",
    "\n",
    "    def alguma_logica_de_negocio(self):\n",
    "        \"\"\"\n",
    "        Finalmente, todo singleton deve definir alguma lógica de negócio, que\n",
    "        pode ser executada em sua instância.\n",
    "        \"\"\"\n",
    "\n",
    "def teste_singleton(valor: str) -> None:\n",
    "    singleton = Singleton(valor)\n",
    "    print(singleton.valor)\n",
    "\n",
    "if __name__ == \"__main__\":\n",
    "    # Código do cliente.\n",
    "\n",
    "    print(\"Se você ver o mesmo valor, então o singleton foi reutilizado (yay!)\\n\"\n",
    "          \"Se você ver valores diferentes, \"\n",
    "          \"então 2 singletons foram criados (booo!!)\\n\\n\"\n",
    "          \"RESULTADO:\\n\")\n",
    "\n",
    "    processo1 = Thread(target=teste_singleton, args=(\"FOO\",))\n",
    "    processo2 = Thread(target=teste_singleton, args=(\"BAR\",))\n",
    "    processo1.start()\n",
    "    processo2.start()\n",
    "    ss = Singleton(\"Ola\")\n",
    "    print(ss.valor)\n"
   ],
   "metadata": {
    "collapsed": false
   }
  },
  {
   "cell_type": "markdown",
   "source": [
    "## 02 - Implementação mais fácil"
   ],
   "metadata": {
    "collapsed": false
   }
  },
  {
   "cell_type": "code",
   "execution_count": 8,
   "outputs": [
    {
     "name": "stdout",
     "output_type": "stream",
     "text": [
      "<__main__.Singleton object at 0x107940af0>\n",
      "<__main__.Singleton object at 0x107940af0>\n",
      "Singleton funciona, ambas as variáveis contêm a mesma instância.\n"
     ]
    }
   ],
   "source": [
    "class SingletonMeta(type):\n",
    "    \"\"\"\n",
    "    A classe Singleton pode ser implementada de diferentes maneiras em Python.\n",
    "    Alguns métodos possíveis incluem: classe base, decorador, metaclass. Vamos\n",
    "    usar a metaclass porque ela é mais adequada para esse propósito.\n",
    "    \"\"\"\n",
    "\n",
    "    _instancias = {}\n",
    "\n",
    "    def __call__(cls, *args, **kwargs):\n",
    "        \"\"\"\n",
    "        Mudanças possíveis no valor do argumento `__init__` não afetam a\n",
    "        instância retornada.\n",
    "        \"\"\"\n",
    "        if cls not in cls._instancias:\n",
    "            instancia = super().__call__(*args, **kwargs)\n",
    "            cls._instancias[cls] = instancia\n",
    "        return cls._instancias[cls]\n",
    "\n",
    "\n",
    "class Singleton(metaclass=SingletonMeta):\n",
    "    def alguma_logica_de_negocio(self):\n",
    "        \"\"\"\n",
    "        Finalmente, todo singleton deve definir alguma lógica de negócio, que\n",
    "        pode ser executada em sua instância.\n",
    "        \"\"\"\n",
    "\n",
    "        # ...\n",
    "\n",
    "\n",
    "if __name__ == \"__main__\":\n",
    "    # Código do cliente.\n",
    "\n",
    "    s1 = Singleton()\n",
    "    s2 = Singleton()\n",
    "\n",
    "    print(s1)\n",
    "    print(s2)\n",
    "    if id(s1) == id(s2):\n",
    "        print(\"Singleton funciona, ambas as variáveis contêm a mesma instância.\")\n",
    "    else:\n",
    "        print(\"Singleton falhou, as variáveis contêm instâncias diferentes.\")\n"
   ],
   "metadata": {
    "collapsed": false
   }
  },
  {
   "cell_type": "markdown",
   "source": [
    "## 03 - Singleton simplao criado por mim -Sem Meta Class"
   ],
   "metadata": {
    "collapsed": false
   }
  },
  {
   "cell_type": "code",
   "execution_count": 10,
   "outputs": [
    {
     "name": "stdout",
     "output_type": "stream",
     "text": [
      "Ola\n",
      "20\n",
      "20\n"
     ]
    }
   ],
   "source": [
    "class SingletonClass:\n",
    "    _instance = None\n",
    "    _initialized = False\n",
    "\n",
    "    def __init__(self):\n",
    "        if not self._initialized:\n",
    "            self.value = None\n",
    "            self._initialized = True\n",
    "            print('Ola')\n",
    "\n",
    "    def __new__(cls):\n",
    "        if cls._instance is None:\n",
    "            cls._instance = super(SingletonClass, cls).__new__(cls)\n",
    "        return cls._instance\n",
    "\n",
    "    def set_value(self, value):\n",
    "        self.value = value\n",
    "\n",
    "    def get_value(self):\n",
    "        return self.value\n",
    "\n",
    "class ClasseFilha1(SingletonClass):\n",
    "    def __init__(self):\n",
    "        super().__init__()  # Chama o método __init__ da classe pai\n",
    "        self.set_value(10)  # Define um valor específico para ClasseFilha1\n",
    "\n",
    "class ClasseFilha2(SingletonClass):\n",
    "    def __init__(self):\n",
    "        super().__init__()  # Chama o método __init__ da classe pai\n",
    "        self.set_value(120)  # Define um valor específico para ClasseFilha2\n",
    "\n",
    "\n",
    "# Criando instâncias da classe SingletonClass\n",
    "singleton1 = SingletonClass()\n",
    "singleton1.set_value(10)\n",
    "\n",
    "singleton2 = SingletonClass()\n",
    "singleton2.set_value(20)\n",
    "\n",
    "\n",
    "# Ambas as instâncias referem-se ao mesmo objeto\n",
    "print(singleton1.get_value())  # Saída: 20\n",
    "print(singleton2.get_value())"
   ],
   "metadata": {
    "collapsed": false
   }
  }
 ],
 "metadata": {
  "kernelspec": {
   "display_name": "Python 3",
   "language": "python",
   "name": "python3"
  },
  "language_info": {
   "codemirror_mode": {
    "name": "ipython",
    "version": 2
   },
   "file_extension": ".py",
   "mimetype": "text/x-python",
   "name": "python",
   "nbconvert_exporter": "python",
   "pygments_lexer": "ipython2",
   "version": "2.7.6"
  }
 },
 "nbformat": 4,
 "nbformat_minor": 0
}
