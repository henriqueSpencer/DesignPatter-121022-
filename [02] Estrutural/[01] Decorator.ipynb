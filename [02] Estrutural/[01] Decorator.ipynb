{
 "cells": [
  {
   "cell_type": "markdown",
   "source": [
    "`Structural design patterns explain how to assemble objects and classes into larger structures, while keeping these structures flexible and efficient.`\n",
    "\n",
    "# Decorator\n",
    "- O Decorator é um padrão de design estrutural que permite que você adicione novos comportamentos aos objetos, colocando esses objetos dentro de objetos de invólucro especiais que contêm os comportamentos.\n"
   ],
   "metadata": {
    "collapsed": false
   }
  },
  {
   "cell_type": "markdown",
   "source": [
    "## 01 - Decorator simples"
   ],
   "metadata": {
    "collapsed": false
   }
  },
  {
   "cell_type": "code",
   "execution_count": 3,
   "outputs": [
    {
     "name": "stdout",
     "output_type": "stream",
     "text": [
      "myfunction levou o tempo de execução de: 2.1457672119140625e-06\n"
     ]
    }
   ],
   "source": [
    "import time\n",
    "\n",
    "def timed(function):\n",
    "    def wrapper(*args, **kwargs):\n",
    "        before = time.time()\n",
    "        value = function(*args, **kwargs)\n",
    "        after = time.time()\n",
    "        fname = function.__name__\n",
    "        print(f\"{fname} levou o tempo de execução de: {after-before}\")\n",
    "        return value\n",
    "\n",
    "    return wrapper\n",
    "\n",
    "@timed\n",
    "def myfunction(x):\n",
    "    result =1\n",
    "    for i in range(x):\n",
    "        result *= i\n",
    "    return result\n",
    "\n",
    "if __name__ == \"__main__\":\n",
    "    myfunction(11) # [03]"
   ],
   "metadata": {
    "collapsed": false
   }
  },
  {
   "cell_type": "markdown",
   "source": [
    "## 02 - Decorator com classe() do Refactoring Guru"
   ],
   "metadata": {
    "collapsed": false
   }
  },
  {
   "cell_type": "code",
   "execution_count": 2,
   "outputs": [
    {
     "name": "stdout",
     "output_type": "stream",
     "text": [
      "Cliente: Eu tenho um componente simples:\n",
      "RESULTADO: ComponenteConcreto\n",
      "\n",
      "Cliente: Agora eu tenho um componente decorado:\n",
      "RESULTADO: DecoradorConcretoB(DecoradorConcretoA(ComponenteConcreto))"
     ]
    }
   ],
   "source": [
    "class Componente():\n",
    "    \"\"\"\n",
    "    A interface de Componente define operações que podem ser alteradas por\n",
    "    decoradores.\n",
    "    \"\"\"\n",
    "\n",
    "    def operacao(self) -> str:\n",
    "        pass\n",
    "\n",
    "\n",
    "class ComponenteConcreto(Componente):\n",
    "    \"\"\"\n",
    "    Componentes Concretos fornecem implementações padrão das operações. Pode\n",
    "    haver várias variações dessas classes.\n",
    "    \"\"\"\n",
    "\n",
    "    def operacao(self) -> str:\n",
    "        return \"ComponenteConcreto\"\n",
    "\n",
    "\n",
    "class Decorador(Componente):\n",
    "    \"\"\"\n",
    "    A classe de Decorador base segue a mesma interface que os outros componentes.\n",
    "    O propósito principal desta classe é definir a interface de envolvimento para\n",
    "    todos os decoradores concretos. A implementação padrão do código de envolvimento\n",
    "    pode incluir um campo para armazenar um componente envolvido e os meios para\n",
    "    inicializá-lo.\n",
    "    \"\"\"\n",
    "\n",
    "    _componente: Componente = None\n",
    "\n",
    "    def __init__(self, componente: Componente) -> None:\n",
    "        self._componente = componente\n",
    "\n",
    "    @property\n",
    "    def componente(self) -> Componente:\n",
    "        \"\"\"\n",
    "        O Decorador delega todo o trabalho ao componente envolvido.\n",
    "        \"\"\"\n",
    "\n",
    "        return self._componente\n",
    "\n",
    "    def operacao(self) -> str:\n",
    "        return self._componente.operacao()\n",
    "\n",
    "\n",
    "class DecoradorConcretoA(Decorador):\n",
    "    \"\"\"\n",
    "    Decoradores Concretos chamam o objeto envolvido e alteram seu resultado de\n",
    "    alguma forma.\n",
    "    \"\"\"\n",
    "\n",
    "    def operacao(self) -> str:\n",
    "        \"\"\"\n",
    "        Decoradores podem chamar a implementação pai da operação, em vez de\n",
    "        chamar o objeto envolvido diretamente. Esta abordagem simplifica a\n",
    "        extensão das classes de decorador.\n",
    "        \"\"\"\n",
    "        return f\"DecoradorConcretoA({self.componente.operacao()})\"\n",
    "\n",
    "\n",
    "class DecoradorConcretoB(Decorador):\n",
    "    \"\"\"\n",
    "    Decoradores podem executar seu comportamento antes ou depois da chamada a\n",
    "    um objeto envolvido.\n",
    "    \"\"\"\n",
    "\n",
    "    def operacao(self) -> str:\n",
    "        return f\"DecoradorConcretoB({self.componente.operacao()})\"\n",
    "\n",
    "\n",
    "def codigo_cliente(componente: Componente) -> None:\n",
    "    \"\"\"\n",
    "    O código do cliente trabalha com todos os objetos usando a interface de\n",
    "    Componente. Dessa forma, pode permanecer independente das classes concretas\n",
    "    dos componentes com os quais trabalha.\n",
    "    \"\"\"\n",
    "\n",
    "    # ...\n",
    "\n",
    "    print(f\"RESULTADO: {componente.operacao()}\", end=\"\")\n",
    "\n",
    "    # ...\n",
    "\n",
    "\n",
    "if __name__ == \"__main__\":\n",
    "    # Desta forma, o código do cliente pode suportar tanto componentes simples...\n",
    "    simples = ComponenteConcreto()\n",
    "    print(\"Cliente: Eu tenho um componente simples:\")\n",
    "    codigo_cliente(simples)\n",
    "    print(\"\\n\")\n",
    "\n",
    "    # ...quanto os decorados.\n",
    "    #\n",
    "    # Observe como os decoradores podem envolver não apenas componentes simples,\n",
    "    # mas também outros decoradores.\n",
    "    decorador1 = DecoradorConcretoA(simples)\n",
    "    decorador2 = DecoradorConcretoB(decorador1)\n",
    "    print(\"Cliente: Agora eu tenho um componente decorado:\")\n",
    "    codigo_cliente(decorador2)\n"
   ],
   "metadata": {
    "collapsed": false
   }
  }
 ],
 "metadata": {
  "kernelspec": {
   "display_name": "Python 3",
   "language": "python",
   "name": "python3"
  },
  "language_info": {
   "codemirror_mode": {
    "name": "ipython",
    "version": 2
   },
   "file_extension": ".py",
   "mimetype": "text/x-python",
   "name": "python",
   "nbconvert_exporter": "python",
   "pygments_lexer": "ipython2",
   "version": "2.7.6"
  }
 },
 "nbformat": 4,
 "nbformat_minor": 0
}
