{
 "cells": [
  {
   "cell_type": "markdown",
   "source": [
    "# Adapter\n",
    "- É um padrão de design estrutural que permite a colaboração entre objetos com interfaces incompatíveis.\n",
    "\n",
    "## Diagrama UML\n",
    "![Diagrama UML](https://refactoring.guru/images/patterns/diagrams/adapter/structure-object-adapter.png)\n",
    "\n"
   ],
   "metadata": {
    "collapsed": false
   }
  },
  {
   "cell_type": "markdown",
   "source": [
    "## 01 - Decorator Lhama\n",
    "\n",
    "Relacionamento: Framework -> Adapter -> Code"
   ],
   "metadata": {
    "collapsed": false
   }
  },
  {
   "cell_type": "code",
   "execution_count": 3,
   "outputs": [
    {
     "name": "stdout",
     "output_type": "stream",
     "text": [
      "Autentificando o Token\n",
      "Writing in Database: Lhama Hello Word\n"
     ]
    }
   ],
   "source": [
    "class Adapter:\n",
    "\n",
    "    def __init__(self, process):\n",
    "        self.process = process\n",
    "\n",
    "    def handle(self, request):\n",
    "        # Adaptando a mensagem para o formato do processo\n",
    "        message = {\n",
    "            \"method\": request[\"HTTP_method\"],\n",
    "            \"header\": {\n",
    "                \"token\": request[\"HTTP_header\"][0][1],\n",
    "                \"origin\": request[\"HTTP_header\"][1][1]\n",
    "            },\n",
    "            \"body\": {\n",
    "                \"name\": request[\"HTTP_body\"][0][1],\n",
    "                \"message\": request[\"HTTP_body\"][1][1]\n",
    "            }\n",
    "        }\n",
    "        # Aqui ele chama o processo da classe passada como handle com a mensagem adaptada\n",
    "        response = self.process.handle(message)\n",
    "        return response\n",
    "\n",
    "\n",
    "def write_in_database(name, message):\n",
    "    print('Writing in Database: {} {}'.format(name, message))\n",
    "\n",
    "\n",
    "def route1(message):\n",
    "    processo = Adapter(Code())\n",
    "    processo.handle(message)\n",
    "\n",
    "\n",
    "\n",
    "class Code():\n",
    "\n",
    "    def handle (self, message):\n",
    "        token = message['header']['token']\n",
    "\n",
    "        if token:\n",
    "            print('Autentificando o Token')\n",
    "            write_in_database(\n",
    "                message['body']['name'],\n",
    "                message['body']['message']\n",
    "            )\n",
    "\n",
    "\n",
    "if __name__ == '__main__':\n",
    "    http_message = {\n",
    "        \"HTTP_method\": \"POST\",\n",
    "        \"HTTP_header\": [\n",
    "            (\"token\", \"Bearer jioiaefi48904729kldan324\"),\n",
    "            (\"origin\", \"http://something.other.org\")\n",
    "        ],\n",
    "        \"HTTP_body\": [\n",
    "            (\"name\", \"Lhama\"),\n",
    "            (\"message\", \"Hello Word\")\n",
    "        ]\n",
    "    }\n",
    "    route1(http_message)"
   ],
   "metadata": {
    "collapsed": false
   }
  },
  {
   "cell_type": "markdown",
   "source": [
    "## 02 - Decorator via composição de objetos do Refactoring Guru"
   ],
   "metadata": {
    "collapsed": false
   }
  },
  {
   "cell_type": "code",
   "execution_count": 5,
   "outputs": [
    {
     "name": "stdout",
     "output_type": "stream",
     "text": [
      "Cliente: Eu posso trabalhar bem com objetos do Alvo:\n",
      "Alvo: Comportamento padrão do alvo.\n",
      "\n",
      "Cliente: A classe Adaptee tem uma interface estranha. Veja, eu não a entendo:\n",
      "Adaptee: .eetpadA eht fo roivaheb laicepS\n",
      "\n",
      "Cliente: Mas eu posso trabalhar com ela via Adaptador:\n",
      "Adaptador: (TRADUZIDO) Special behavior of the Adaptee."
     ]
    }
   ],
   "source": [
    "class Alvo:\n",
    "    \"\"\"\n",
    "    O Alvo define a interface específica do domínio usada pelo código do cliente.\n",
    "    \"\"\"\n",
    "\n",
    "    def requisicao(self) -> str:\n",
    "        return \"Alvo: Comportamento padrão do alvo.\"\n",
    "\n",
    "\n",
    "class Adaptee:\n",
    "    \"\"\"\n",
    "    O Adaptee contém algum comportamento útil, mas sua interface é incompatível\n",
    "    com o código do cliente existente. O Adaptee precisa de alguma adaptação antes\n",
    "    que o código do cliente possa usá-lo.\n",
    "    \"\"\"\n",
    "\n",
    "    def requisicao_especifica(self) -> str:\n",
    "        return \".eetpadA eht fo roivaheb laicepS\"\n",
    "\n",
    "\n",
    "class Adaptador(Alvo):\n",
    "    \"\"\"\n",
    "    O Adaptador torna a interface do Adaptee compatível com a interface do Alvo\n",
    "    via composição.\n",
    "    \"\"\"\n",
    "\n",
    "    def __init__(self, adaptee: Adaptee) -> None:\n",
    "        self.adaptee = adaptee\n",
    "\n",
    "    def requisicao(self) -> str:\n",
    "        return f\"Adaptador: (TRADUZIDO) {self.adaptee.requisicao_especifica()[::-1]}\"\n",
    "\n",
    "\n",
    "def codigo_cliente(alvo: Alvo) -> None:\n",
    "    \"\"\"\n",
    "    O código do cliente suporta todas as classes que seguem a interface do Alvo.\n",
    "    \"\"\"\n",
    "\n",
    "    print(alvo.requisicao(), end=\"\")\n",
    "\n",
    "\n",
    "if __name__ == \"__main__\":\n",
    "    print(\"Cliente: Eu posso trabalhar bem com objetos do Alvo:\")\n",
    "    alvo = Alvo()\n",
    "    codigo_cliente(alvo)\n",
    "    print(\"\\n\")\n",
    "\n",
    "    adaptee = Adaptee()\n",
    "    print(\"Cliente: A classe Adaptee tem uma interface estranha. \"\n",
    "          \"Veja, eu não a entendo:\")\n",
    "    print(f\"Adaptee: {adaptee.requisicao_especifica()}\", end=\"\\n\\n\")\n",
    "\n",
    "    print(\"Cliente: Mas eu posso trabalhar com ela via Adaptador:\")\n",
    "    adaptador = Adaptador(adaptee)\n",
    "    codigo_cliente(adaptador)\n"
   ],
   "metadata": {
    "collapsed": false
   }
  },
  {
   "cell_type": "markdown",
   "source": [
    "## 03 - Decorator com Herança do Refactoring Guru"
   ],
   "metadata": {
    "collapsed": false
   }
  },
  {
   "cell_type": "code",
   "execution_count": 4,
   "outputs": [
    {
     "name": "stdout",
     "output_type": "stream",
     "text": [
      "Cliente: Eu posso trabalhar bem com objetos do Alvo:\n",
      "Alvo: Comportamento padrão do alvo.\n",
      "\n",
      "Cliente: A classe Adaptee tem uma interface estranha. Veja, eu não a entendo:\n",
      "Adaptee: .eetpadA eht fo roivaheb laicepS\n",
      "\n",
      "Cliente: Mas eu posso trabalhar com ela via Adaptador:\n",
      "Adaptador: (TRADUZIDO) Special behavior of the Adaptee."
     ]
    }
   ],
   "source": [
    "class Alvo:\n",
    "    \"\"\"\n",
    "    O Alvo define a interface específica do domínio usada pelo código do cliente.\n",
    "    \"\"\"\n",
    "\n",
    "    def requisicao(self) -> str:\n",
    "        return \"Alvo: Comportamento padrão do alvo.\"\n",
    "\n",
    "\n",
    "class Adaptee:\n",
    "    \"\"\"\n",
    "    O Adaptee contém algum comportamento útil, mas sua interface é incompatível\n",
    "    com o código do cliente existente. O Adaptee precisa de alguma adaptação antes\n",
    "    que o código do cliente possa usá-lo.\n",
    "    \"\"\"\n",
    "\n",
    "    def requisicao_especifica(self) -> str:\n",
    "        return \".eetpadA eht fo roivaheb laicepS\"\n",
    "\n",
    "\n",
    "class Adaptador(Alvo, Adaptee):\n",
    "    \"\"\"\n",
    "    O Adaptador torna a interface do Adaptee compatível com a interface do Alvo\n",
    "    através de herança múltipla.\n",
    "    \"\"\"\n",
    "\n",
    "    def requisicao(self) -> str:\n",
    "        return f\"Adaptador: (TRADUZIDO) {self.requisicao_especifica()[::-1]}\"\n",
    "\n",
    "\n",
    "def codigo_cliente(alvo: \"Alvo\") -> None:\n",
    "    \"\"\"\n",
    "    O código do cliente suporta todas as classes que seguem a interface do Alvo.\n",
    "    \"\"\"\n",
    "\n",
    "    print(alvo.requisicao(), end=\"\")\n",
    "\n",
    "\n",
    "if __name__ == \"__main__\":\n",
    "    print(\"Cliente: Eu posso trabalhar bem com objetos do Alvo:\")\n",
    "    alvo = Alvo()\n",
    "    codigo_cliente(alvo)\n",
    "    print(\"\\n\")\n",
    "\n",
    "    adaptee = Adaptee()\n",
    "    print(\"Cliente: A classe Adaptee tem uma interface estranha. \"\n",
    "          \"Veja, eu não a entendo:\")\n",
    "    print(f\"Adaptee: {adaptee.requisicao_especifica()}\", end=\"\\n\\n\")\n",
    "\n",
    "    print(\"Cliente: Mas eu posso trabalhar com ela via Adaptador:\")\n",
    "    adaptador = Adaptador()\n",
    "    codigo_cliente(adaptador)\n"
   ],
   "metadata": {
    "collapsed": false
   }
  },
  {
   "cell_type": "code",
   "execution_count": null,
   "outputs": [],
   "source": [],
   "metadata": {
    "collapsed": false
   }
  }
 ],
 "metadata": {
  "kernelspec": {
   "display_name": "Python 3",
   "language": "python",
   "name": "python3"
  },
  "language_info": {
   "codemirror_mode": {
    "name": "ipython",
    "version": 2
   },
   "file_extension": ".py",
   "mimetype": "text/x-python",
   "name": "python",
   "nbconvert_exporter": "python",
   "pygments_lexer": "ipython2",
   "version": "2.7.6"
  }
 },
 "nbformat": 4,
 "nbformat_minor": 0
}
