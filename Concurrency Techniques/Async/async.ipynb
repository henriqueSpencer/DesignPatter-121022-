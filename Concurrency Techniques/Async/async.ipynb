{
 "cells": [
  {
   "cell_type": "code",
   "execution_count": 10,
   "metadata": {
    "collapsed": true
   },
   "outputs": [
    {
     "name": "stdout",
     "output_type": "stream",
     "text": [
      "import\n"
     ]
    }
   ],
   "source": [
    "# spencer\n",
    "# 2023/12/12\n",
    "# Asyncio basic example\n",
    "\n",
    "# Nos n de multiplas thereads ou processers para esperar o tempo passar !\n",
    "\n",
    "import asyncio\n",
    "import time\n",
    "\n",
    "print('import')"
   ]
  },
  {
   "cell_type": "code",
   "execution_count": 13,
   "outputs": [],
   "source": [
    "async def do_work(s: str, delay: int = 5):\n",
    "    print(f\"start {s}\")\n",
    "    await asyncio.sleep(delay)\n",
    "    print(f\"end {s}\")\n",
    "\n",
    "\n",
    "async def main():\n",
    "\n",
    "\n",
    "    todo = ['get_peckage', 'loundry', 'baking_cake']\n",
    "\n",
    "    print('-------- 1. Modo de fazer -------------')\n",
    "    # Dessa forma ele executa uma por uma\n",
    "    # Sempre espera a primeira terminar para executar a segunda\n",
    "    start = time.perf_counter()\n",
    "    for item in todo:\n",
    "        await do_work(item)\n",
    "    print(f\"total time: {time.perf_counter() - start}s\")\n",
    "    print('--------\\ --------------- /------------')\n",
    "\n",
    "\n",
    "\n",
    "    print('-------- 2. Modo de fazer -------------')\n",
    "    # Dessa forma ele cria todas as tarefas antes, e dps espera elas terminarem todas terminarem de maneira assincrona\n",
    "    # asyncio.wait\n",
    "    # Supports waiting to be stopped after the first task is done, or after a specified timeout, allowing lower level precision of operations:\n",
    "    # Essa maneira é mais low level\n",
    "    start = time.perf_counter()\n",
    "    # Estou Crinado as tarefas aqui, mas sem executa-las\n",
    "    tasks = [asyncio.create_task(do_work(item)) for item in todo]\n",
    "\n",
    "    # Ele retornas as tarefas que foram executadas e as que ficaram pendentes devido ao timeout\n",
    "    done, pending = await asyncio.wait(tasks, timeout=20)\n",
    "    print(f\"total time: {time.perf_counter() - start}s\")\n",
    "    print('--------\\ --------------- /------------')\n",
    "\n",
    "\n",
    "\n",
    "    print('-------- 3. Modo de fazer -------------')\n",
    "    # asyncio.gather\n",
    "    # Returns a Future instance, allowing high level grouping of tasks\n",
    "    # Outro ponto dessa abordagem é ser resiliente a erros, se uma das tarefas falhar, as outras continuam sendo executadas\n",
    "\n",
    "    start = time.perf_counter()\n",
    "    tarefas = [do_work(item) for item in todo]\n",
    "    batch = asyncio.gather(*tarefas, return_exceptions=True)\n",
    "    resultados = await batch\n",
    "    print(f\"total time: {time.perf_counter() - start}s\")\n",
    "    print('--------\\ --------------- /------------')\n",
    "\n",
    "    # print('-------- 4. Modo de fazer -------------')\n",
    "    # # Python 3.11+\n",
    "    # start = time.perf_counter()\n",
    "    # async with asyncio.TaskGroup() as group:\n",
    "    #     tasks = [group.create_task(do_work(item)) for item in todo]\n",
    "    # print(f\"total time: {time.perf_counter() - start}s\")\n",
    "    # print('--------\\ --------------- /------------')\n",
    "\n",
    "\n",
    "\n"
   ],
   "metadata": {
    "collapsed": false
   }
  },
  {
   "cell_type": "code",
   "execution_count": 14,
   "outputs": [
    {
     "name": "stderr",
     "output_type": "stream",
     "text": [
      "/Users/henriquespencer/opt/anaconda3/lib/python3.9/genericpath.py:77: RuntimeWarning: coroutine 'main' was never awaited\n",
      "  m = tuple(map(os.fspath, m))\n",
      "RuntimeWarning: Enable tracemalloc to get the object allocation traceback\n"
     ]
    },
    {
     "ename": "RuntimeError",
     "evalue": "asyncio.run() cannot be called from a running event loop",
     "output_type": "error",
     "traceback": [
      "\u001B[0;31m---------------------------------------------------------------------------\u001B[0m",
      "\u001B[0;31mRuntimeError\u001B[0m                              Traceback (most recent call last)",
      "Cell \u001B[0;32mIn[14], line 2\u001B[0m\n\u001B[1;32m      1\u001B[0m \u001B[38;5;28;01mif\u001B[39;00m \u001B[38;5;18m__name__\u001B[39m \u001B[38;5;241m==\u001B[39m \u001B[38;5;124m'\u001B[39m\u001B[38;5;124m__main__\u001B[39m\u001B[38;5;124m'\u001B[39m:\n\u001B[0;32m----> 2\u001B[0m     \u001B[43masyncio\u001B[49m\u001B[38;5;241;43m.\u001B[39;49m\u001B[43mrun\u001B[49m\u001B[43m(\u001B[49m\u001B[43mmain\u001B[49m\u001B[43m(\u001B[49m\u001B[43m)\u001B[49m\u001B[43m)\u001B[49m\n",
      "File \u001B[0;32m~/opt/anaconda3/lib/python3.9/asyncio/runners.py:33\u001B[0m, in \u001B[0;36mrun\u001B[0;34m(main, debug)\u001B[0m\n\u001B[1;32m      9\u001B[0m \u001B[38;5;250m\u001B[39m\u001B[38;5;124;03m\"\"\"Execute the coroutine and return the result.\u001B[39;00m\n\u001B[1;32m     10\u001B[0m \n\u001B[1;32m     11\u001B[0m \u001B[38;5;124;03mThis function runs the passed coroutine, taking care of\u001B[39;00m\n\u001B[0;32m   (...)\u001B[0m\n\u001B[1;32m     30\u001B[0m \u001B[38;5;124;03m    asyncio.run(main())\u001B[39;00m\n\u001B[1;32m     31\u001B[0m \u001B[38;5;124;03m\"\"\"\u001B[39;00m\n\u001B[1;32m     32\u001B[0m \u001B[38;5;28;01mif\u001B[39;00m events\u001B[38;5;241m.\u001B[39m_get_running_loop() \u001B[38;5;129;01mis\u001B[39;00m \u001B[38;5;129;01mnot\u001B[39;00m \u001B[38;5;28;01mNone\u001B[39;00m:\n\u001B[0;32m---> 33\u001B[0m     \u001B[38;5;28;01mraise\u001B[39;00m \u001B[38;5;167;01mRuntimeError\u001B[39;00m(\n\u001B[1;32m     34\u001B[0m         \u001B[38;5;124m\"\u001B[39m\u001B[38;5;124masyncio.run() cannot be called from a running event loop\u001B[39m\u001B[38;5;124m\"\u001B[39m)\n\u001B[1;32m     36\u001B[0m \u001B[38;5;28;01mif\u001B[39;00m \u001B[38;5;129;01mnot\u001B[39;00m coroutines\u001B[38;5;241m.\u001B[39miscoroutine(main):\n\u001B[1;32m     37\u001B[0m     \u001B[38;5;28;01mraise\u001B[39;00m \u001B[38;5;167;01mValueError\u001B[39;00m(\u001B[38;5;124m\"\u001B[39m\u001B[38;5;124ma coroutine was expected, got \u001B[39m\u001B[38;5;132;01m{!r}\u001B[39;00m\u001B[38;5;124m\"\u001B[39m\u001B[38;5;241m.\u001B[39mformat(main))\n",
      "\u001B[0;31mRuntimeError\u001B[0m: asyncio.run() cannot be called from a running event loop"
     ]
    }
   ],
   "source": [
    "if __name__ == '__main__':\n",
    "    asyncio.run(main())"
   ],
   "metadata": {
    "collapsed": false
   }
  }
 ],
 "metadata": {
  "kernelspec": {
   "display_name": "Python 3",
   "language": "python",
   "name": "python3"
  },
  "language_info": {
   "codemirror_mode": {
    "name": "ipython",
    "version": 2
   },
   "file_extension": ".py",
   "mimetype": "text/x-python",
   "name": "python",
   "nbconvert_exporter": "python",
   "pygments_lexer": "ipython2",
   "version": "2.7.6"
  }
 },
 "nbformat": 4,
 "nbformat_minor": 0
}
